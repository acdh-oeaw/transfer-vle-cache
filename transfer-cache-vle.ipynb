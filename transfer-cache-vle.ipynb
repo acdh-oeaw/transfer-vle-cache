{
 "cells": [
  {
   "cell_type": "markdown",
   "id": "043b9717-9153-4d51-aad2-2739e5f24cc9",
   "metadata": {},
   "source": [
    "# Transfer cached entries from dboeannotation to the XML database (vleserver)"
   ]
  },
  {
   "cell_type": "code",
   "execution_count": 1,
   "id": "c8a3e7cc-c5b8-46c7-94d1-e8d18d191d2c",
   "metadata": {},
   "outputs": [],
   "source": [
    "from typing import Dict\n",
    "from typing import Set\n",
    "import asyncio\n",
    "import nest_asyncio\n",
    "\n",
    "nest_asyncio.apply()\n",
    "\n",
    "from dboeannotation.services.async_api_token_auth_service import api_token_auth_create\n",
    "from dboeannotation.services.async_api_service import api_documents_list, api_documents_change\n",
    "from vleserver.services.async_entries_service import _getDictDictNameEntries, _changeEntries "
   ]
  },
  {
   "cell_type": "markdown",
   "id": "7af7f68e-dd06-4795-afd6-b1ae8afe92f8",
   "metadata": {},
   "source": [
    "## Get the XML data from the cache\n",
    "\n",
    "See `dboeannotation/api_config.py` for the endpoint used!\n",
    "Need to log in and get an token to further use the API."
   ]
  },
  {
   "cell_type": "code",
   "execution_count": 2,
   "id": "b970d002-5afe-4ce3-8811-6d6995146dac",
   "metadata": {},
   "outputs": [],
   "source": [
    "async def getXmlFromCache() -> Dict:\n",
    "    from dboeannotation.api_config import APIConfig;\n",
    "    config = APIConfig()\n",
    "    response = await api_token_auth_create({'username': 'vle', 'password': 'changeme_please'}, config)\n",
    "    # print(response['token'])\n",
    "    config.set_access_token(response['token'])\n",
    "    return await api_documents_list(cache_only=True, page_size=50, api_config_override=config)"
   ]
  },
  {
   "cell_type": "code",
   "execution_count": 3,
   "id": "956f3d25-37d4-47c9-869b-338f9c2afdb1",
   "metadata": {},
   "outputs": [
    {
     "name": "stdout",
     "output_type": "stream",
     "text": [
      "mgrossfurtner\n",
      "testuser\n",
      "None\n",
      "bkrautgartner\n"
     ]
    }
   ],
   "source": [
    "cachedData = await getXmlFromCache()\n",
    "for r in { r[\"xml_modified_by\"] for r in cachedData[\"results\"] }:\n",
    "    print(r)"
   ]
  },
  {
   "cell_type": "code",
   "execution_count": 4,
   "id": "0c6a23f6-1d5f-46eb-b488-91a65dfb9896",
   "metadata": {},
   "outputs": [
    {
     "name": "stdout",
     "output_type": "stream",
     "text": [
      "mgrossfurtner f250_qdb-d1e10012\n",
      "testuser f231_qdb-d1e100017\n",
      "None f231_qdb-d1e100453,f231_qdb-d1e100106,f231_qdb-d1e100424,f231_qdb-d1e1002,f231_qdb-d1e100335,bk_td_2023_05_11_003,bk_td_2023_05_11_002,f231_qdb-d1e100186,f231_qdb-d1e100362,f231_qdb-d1e100152,f231_qdb-d1e100392,f231_qdb-d1e101481,f231_qdb-d1e100302\n",
      "bkrautgartner f231_qdb-d1e100079,f231_qdb-d1e100056\n"
     ]
    }
   ],
   "source": [
    "for by in {result[\"xml_modified_by\"] for result in cachedData[\"results\"]}:\n",
    "    es_ids = ','.join([result['es_id'] for result in cachedData['results'] if result[\"xml_modified_by\"] == by])\n",
    "    print(by, es_ids)"
   ]
  },
  {
   "cell_type": "code",
   "execution_count": 5,
   "id": "3ddf1898-a7ea-41eb-82bf-495a4c1b7d14",
   "metadata": {},
   "outputs": [
    {
     "ename": "HTTPException",
     "evalue": "401  failed with status code: 401",
     "output_type": "error",
     "traceback": [
      "\u001b[1;31m---------------------------------------------------------------------------\u001b[0m",
      "\u001b[1;31mHTTPException\u001b[0m                             Traceback (most recent call last)",
      "Cell \u001b[1;32mIn[5], line 1\u001b[0m\n\u001b[1;32m----> 1\u001b[0m \u001b[38;5;28;01mawait\u001b[39;00m api_documents_change(cachedData[\u001b[38;5;124m'\u001b[39m\u001b[38;5;124mresults\u001b[39m\u001b[38;5;124m'\u001b[39m])\n",
      "File \u001b[1;32m~\\PycharmProjects\\transfer-vle-cache\\dboeannotation\\services\\async_api_service.py:554\u001b[0m, in \u001b[0;36mapi_documents_change\u001b[1;34m(data, api_config_override)\u001b[0m\n\u001b[0;32m    550\u001b[0m \u001b[38;5;28;01masync\u001b[39;00m \u001b[38;5;28;01mwith\u001b[39;00m session\u001b[38;5;241m.\u001b[39mrequest(\n\u001b[0;32m    551\u001b[0m     \u001b[38;5;124m\"\u001b[39m\u001b[38;5;124mput\u001b[39m\u001b[38;5;124m\"\u001b[39m, base_path \u001b[38;5;241m+\u001b[39m path, json\u001b[38;5;241m=\u001b[39mdata\n\u001b[0;32m    552\u001b[0m ) \u001b[38;5;28;01mas\u001b[39;00m inital_response:\n\u001b[0;32m    553\u001b[0m     \u001b[38;5;28;01mif\u001b[39;00m inital_response\u001b[38;5;241m.\u001b[39mstatus \u001b[38;5;241m!=\u001b[39m \u001b[38;5;241m200\u001b[39m:\n\u001b[1;32m--> 554\u001b[0m         \u001b[38;5;28;01mraise\u001b[39;00m HTTPException(inital_response\u001b[38;5;241m.\u001b[39mstatus, \u001b[38;5;124mf\u001b[39m\u001b[38;5;124m\"\u001b[39m\u001b[38;5;124m failed with status code: \u001b[39m\u001b[38;5;132;01m{\u001b[39;00minital_response\u001b[38;5;241m.\u001b[39mstatus\u001b[38;5;132;01m}\u001b[39;00m\u001b[38;5;124m\"\u001b[39m)\n\u001b[0;32m    555\u001b[0m     response \u001b[38;5;241m=\u001b[39m \u001b[38;5;28;01mawait\u001b[39;00m inital_response\u001b[38;5;241m.\u001b[39mjson()\n\u001b[0;32m    557\u001b[0m     \u001b[38;5;28;01mreturn\u001b[39;00m \u001b[38;5;28;01mNone\u001b[39;00m\n",
      "\u001b[1;31mHTTPException\u001b[0m: 401  failed with status code: 401"
     ]
    }
   ],
   "source": [
    "await api_documents_change(cachedData['results'])"
   ]
  },
  {
   "cell_type": "code",
   "execution_count": null,
   "id": "2630ba0f-1706-4eda-81bd-87834684c7ab",
   "metadata": {},
   "outputs": [],
   "source": []
  }
 ],
 "metadata": {
  "kernelspec": {
   "display_name": "Python 3 (ipykernel)",
   "language": "python",
   "name": "python3"
  },
  "language_info": {
   "codemirror_mode": {
    "name": "ipython",
    "version": 3
   },
   "file_extension": ".py",
   "mimetype": "text/x-python",
   "name": "python",
   "nbconvert_exporter": "python",
   "pygments_lexer": "ipython3",
   "version": "3.11.6"
  }
 },
 "nbformat": 4,
 "nbformat_minor": 5
}
